{
 "cells": [
  {
   "cell_type": "code",
   "execution_count": 1,
   "id": "76fd6e66",
   "metadata": {},
   "outputs": [],
   "source": [
    "# necessary imports\n",
    "import numpy as np\n",
    "import matplotlib.pyplot as plt\n",
    "from numpy.fft import fftn, ifftn, fftfreq"
   ]
  },
  {
   "cell_type": "markdown",
   "id": "84c50a35",
   "metadata": {},
   "source": [
    "# Dark Matter N-Body Simulation\n",
    "\n",
    "This notebook provides a minimal framework for simulating the evolution of a dark matter particle distribution using a simple Particle-Mesh (PM) method and Leapfrog integration.\n",
    "\n",
    "You will:\n",
    "1. Initialize the simulation\n",
    "2. Assign particles to a grid\n",
    "3. Solve for gravitational forces using a PM gravity solver\n",
    "4. Integrate particle positions using the leapfrog algorithm and the Kick-Drift-Kick scheme\n"
   ]
  },
  {
   "cell_type": "markdown",
   "id": "48975869",
   "metadata": {},
   "source": [
    "### Step 1: Set up Initial conditions"
   ]
  },
  {
   "cell_type": "code",
   "execution_count": null,
   "id": "b2b6344f",
   "metadata": {},
   "outputs": [],
   "source": [
    "# Define parameters of simulations\n",
    "\n",
    "# Simulation parameters\n",
    "N = 256  # grid size\n",
    "L = 100.0  # box size in Mpc/h\n",
    "dx = L / N # length of one cell\n",
    "Np = N**3  # number of particles\n",
    "G = 1e-6 # Arbitrary units for gravitational constant\n",
    "rho_crit=1.271e11 # Critical density in Msun/Mpc^3\n",
    "Mp=Np/L**3*0.3*rho_crit # Mean particle mass in Msun\n",
    "dt = 1  # time step in arbitrary units\n",
    "nsteps = 5 # total steps (feel free to adjust!)"
   ]
  },
  {
   "cell_type": "code",
   "execution_count": null,
   "id": "06e427c4",
   "metadata": {},
   "outputs": [],
   "source": [
    "# Function for creating Gaussian displacements of particles based on a power spectrum\n",
    "# Helper function here, no TODO, but check how it works!\n",
    "\n",
    "def generate_gaussian_displacement(N, L, power_index=-2, amplitude=1.0, seed=42):\n",
    "    \"\"\"Function to create initial Gaussian displacement of particles\n",
    "\n",
    "    Args:\n",
    "        N (int): Number of grid points\n",
    "        L (float): Side length of box\n",
    "        power_index (int, optional): Index of initial powerspectrum. Defaults to -2.\n",
    "        amplitude (float, optional): Amplitude of fluctuations. Defaults to 1.0.\n",
    "        seed (int, optional): Random seed. Defaults to 42.\n",
    "\n",
    "    Returns:\n",
    "        np.ndarray: particle displacements\n",
    "    \"\"\"\n",
    "    np.random.seed(seed)\n",
    "    dx = L / N\n",
    "    k = fftfreq(N, d=dx) * 2 * np.pi\n",
    "    kx, ky, kz = np.meshgrid(k, k, k, indexing='ij')\n",
    "    k_squared = kx**2 + ky**2 + kz**2\n",
    "    k_squared[0, 0, 0] = 1.0  # avoid division by zero at k=0\n",
    "\n",
    "    # Generate complex Gaussian random field in Fourier space\n",
    "    random_field = (\n",
    "        np.random.normal(size=(N, N, N)) +\n",
    "        1j * np.random.normal(size=(N, N, N))\n",
    "    )\n",
    "\n",
    "    # Define a simple power spectrum: P(k) ∝ k^power_index\n",
    "    P_k = k_squared**(power_index / 2.0)\n",
    "    P_k[k_squared == 0] = 0  # zero mode has no power\n",
    "    field_k = random_field * np.sqrt(P_k)\n",
    "\n",
    "    # Displacement = gradient of potential ⇒ multiply by i k / k^2 in Fourier space\n",
    "    disp_x = np.real(ifftn(1j * kx * field_k / k_squared))\n",
    "    disp_y = np.real(ifftn(1j * ky * field_k / k_squared))\n",
    "    disp_z = np.real(ifftn(1j * kz * field_k / k_squared))\n",
    "    \n",
    "    displacement = np.stack([disp_x, disp_y, disp_z], axis=-1)\n",
    "    displacement *= amplitude  # scale the displacement\n",
    "\n",
    "    return displacement\n"
   ]
  },
  {
   "cell_type": "code",
   "execution_count": null,
   "id": "edb373f1",
   "metadata": {},
   "outputs": [],
   "source": [
    "# Initial grid positions\n",
    "\n",
    "# Create initial grid positions\n",
    "# TODO: Set particles on grid points. Remember the periodic boundary condition!\n",
    "x = ...\n",
    "\n",
    "\n",
    "# Generate Gaussian displacement field\n",
    "# TODO: Create Gaussian displacement field\n",
    "displacement_field = ...\n",
    "\n",
    "# Interpolate displacement from grid to particle positions (nearest grid point)\n",
    "ix = (x / dx).astype(int) % N\n",
    "displacement = displacement_field[ix[:, 0], ix[:, 1], ix[:, 2]]\n",
    "\n",
    "# Apply displacement to particle positions\n",
    "# TODO: Add particle positions and displacement\n",
    "x = ...\n",
    "\n",
    "# Set initial velocity to zero\n",
    "# TODO: Set velocity to zero\n",
    "v= ..."
   ]
  },
  {
   "cell_type": "markdown",
   "id": "0adce568",
   "metadata": {},
   "source": [
    "### Step 2: Assign particles to mesh\n",
    "We assign particles to a mesh."
   ]
  },
  {
   "cell_type": "code",
   "execution_count": null,
   "id": "a33542a1",
   "metadata": {},
   "outputs": [],
   "source": [
    "def create_density_grid(positions, N, L):\n",
    "    \"\"\"\n",
    "    Create a density grid (delta) using nearest grid point interpolation.\n",
    "\n",
    "    Parameters:\n",
    "    positions (numpy.ndarray): Array of 3D positions of shape (num_points, 3).\n",
    "    N (int): Number of grid points along each axis.\n",
    "    L (float): Side length of the box.\n",
    "\n",
    "    Returns:\n",
    "    numpy.ndarray: A 3D grid of shape (N, N, N) with the values of delta.\n",
    "    \"\"\"\n",
    "\n",
    "    #TODO: Fill this function\n",
    "\n",
    "\n",
    "    return density_grid"
   ]
  },
  {
   "cell_type": "markdown",
   "id": "6148e5e4",
   "metadata": {},
   "source": [
    "### Step 3: Gravity solver\n",
    "We solve the Poisson equation using FFT. We use that the acceleration is given by\n",
    "$$ \\mathbf{a} = \\nabla \\Phi $$\n",
    "so in Fourier space we can use\n",
    "$$ \\hat{\\mathbf{a}} = \\mathbf{k} \\hat{\\Phi}"
   ]
  },
  {
   "cell_type": "code",
   "execution_count": null,
   "id": "61c4298c",
   "metadata": {},
   "outputs": [],
   "source": [
    "# Solve Poisson equation and compute acceleration field\n",
    "def compute_acceleration(delta):\n",
    "\n",
    "    # Create mesh of k-values\n",
    "    k = fftfreq(N, d=dx) * 2 * np.pi\n",
    "    kx, ky, kz = np.meshgrid(k, k, k, indexing='ij')\n",
    "    k2 = kx**2 + ky**2 + kz**2\n",
    "    k2[0, 0, 0] = 1  # avoid division by zero\n",
    "\n",
    "    # Fourier transform delta and solve the Poisson equation for Phi_k\n",
    "    # TODO: Calculate phi_k\n",
    "\n",
    "    phi_k = ...\n",
    "\n",
    "    # Get the acceleration a\n",
    "    # TODO: Calculate ax, ay, az\n",
    "    ax = ...\n",
    "    ay = ...\n",
    "    az = ...\n",
    "\n",
    "    return np.stack([ax, ay, az], axis=-1)"
   ]
  },
  {
   "cell_type": "markdown",
   "id": "733a897f",
   "metadata": {},
   "source": [
    "### Step 4: Leapfrog Integrator\n",
    "Now we use the Kick-Drift-Kick scheme to calculate the velocities and positions of particles at different time steps"
   ]
  },
  {
   "cell_type": "code",
   "execution_count": null,
   "id": "3ba82f99",
   "metadata": {},
   "outputs": [],
   "source": [
    "rhos=[]\n",
    "\n",
    "# Leapfrog integrator\n",
    "for step in range(nsteps):\n",
    "    print(f\"Calculating step {step} of {nsteps}\")\n",
    "    # Create density field\n",
    "    # TODO: Create density field from current x-positions\n",
    "    delta = ...\n",
    "\n",
    "    # Compute acceleration\n",
    "    # TODO: Create acceleration field from density field\n",
    "    a_field = ...\n",
    "    \n",
    "    # Interpolate acceleration to particle positions (nearest-grid-point)\n",
    "    acc = np.array([a_field[int(i[0])%N, int(i[1])%N, int(i[2])%N] for i in x / dx])\n",
    "    \n",
    "    # Kick-Drift-Kick\n",
    "    \n",
    "    # TODO: Calculate velocity and new x-position and new delta field with kick-drift-kick scheme. Remember the periodic boundary condition!\n",
    "    v =...\n",
    "    x=...\n",
    "    delta=...\n",
    "\n",
    "    # Save density field of this position to array rhos\n",
    "    rhos.append(delta)\n"
   ]
  },
  {
   "cell_type": "markdown",
   "id": "201e3046",
   "metadata": {},
   "source": [
    "### Step 5: Visualization\n",
    "\n",
    "We now plot the histograms of the density distribution for all timesteps. How does the distribution evolve?"
   ]
  },
  {
   "cell_type": "code",
   "execution_count": 10,
   "id": "59ff419e",
   "metadata": {},
   "outputs": [
    {
     "data": {
      "text/plain": [
       "<matplotlib.legend.Legend at 0x121392c70>"
      ]
     },
     "execution_count": 10,
     "metadata": {},
     "output_type": "execute_result"
    },
    {
     "data": {
      "image/png": "[encoded data removed]",
      "text/plain": [
       "<Figure size 640x480 with 1 Axes>"
      ]
     },
     "metadata": {},
     "output_type": "display_data"
    }
   ],
   "source": [
    "for i, rho in enumerate(rhos):\n",
    "    plt.hist(rho.flatten(), label=f'Timestep {i}', histtype='step', ls='--', density=True, bins=(-1.5, -0.5, 0.5, 1.5, 2.5, 3.5, 4.5, 5.5, 6.5, 7.5))\n",
    "\n",
    "plt.xlabel(r'$\\delta$')\n",
    "plt.legend()"
   ]
  },
  {
   "cell_type": "markdown",
   "id": "45624adb",
   "metadata": {},
   "source": [
    "### Step 6: (Optional)\n",
    "\n",
    "Implement a friends-of-friends halo finder and check how the number of halos evolves with time and depending on the linking length you choose."
   ]
  }
 ],
 "metadata": {
  "kernelspec": {
   "display_name": "Python 3",
   "language": "python",
   "name": "python3"
  },
  "language_info": {
   "codemirror_mode": {
    "name": "ipython",
    "version": 3
   },
   "file_extension": ".py",
   "mimetype": "text/x-python",
   "name": "python",
   "nbconvert_exporter": "python",
   "pygments_lexer": "ipython3",
   "version": "3.9.6"
  }
 },
 "nbformat": 4,
 "nbformat_minor": 5
}
