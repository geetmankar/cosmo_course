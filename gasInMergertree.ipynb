{
 "cells": [
  {
   "cell_type": "markdown",
   "metadata": {},
   "source": [
    "# Galaxy Growth via Mergers and Cooling\n",
    "This notebook uses a realistic forward-in-time merger tree. Each halo has **at most one descendant**, and **merging is possible**.\n",
    "\n",
    "You will:\n",
    "- Load the merger tree data\n",
    "- Compute virial temperatures and cooling times\n",
    "- Propagate galaxy growth forward using mergers\n",
    "- Accumulate stellar mass from cooling and merging\n",
    "- Incorporate feedback"
   ]
  },
  {
   "cell_type": "code",
   "execution_count": 1,
   "metadata": {},
   "outputs": [],
   "source": [
    "# Imports\n",
    "import pandas as pd\n",
    "import numpy as np\n",
    "import matplotlib.pyplot as plt\n"
   ]
  },
  {
   "cell_type": "code",
   "execution_count": 3,
   "metadata": {},
   "outputs": [
    {
     "data": {
      "text/html": [
       "<div>\n",
       "<style scoped>\n",
       "    .dataframe tbody tr th:only-of-type {\n",
       "        vertical-align: middle;\n",
       "    }\n",
       "\n",
       "    .dataframe tbody tr th {\n",
       "        vertical-align: top;\n",
       "    }\n",
       "\n",
       "    .dataframe thead th {\n",
       "        text-align: right;\n",
       "    }\n",
       "</style>\n",
       "<table border=\"1\" class=\"dataframe\">\n",
       "  <thead>\n",
       "    <tr style=\"text-align: right;\">\n",
       "      <th></th>\n",
       "      <th>halo_id</th>\n",
       "      <th>snapshot</th>\n",
       "      <th>z</th>\n",
       "      <th>mass</th>\n",
       "      <th>descendant_id</th>\n",
       "    </tr>\n",
       "  </thead>\n",
       "  <tbody>\n",
       "    <tr>\n",
       "      <th>0</th>\n",
       "      <td>1</td>\n",
       "      <td>6</td>\n",
       "      <td>1.2</td>\n",
       "      <td>9.692735e+10</td>\n",
       "      <td>NaN</td>\n",
       "    </tr>\n",
       "    <tr>\n",
       "      <th>1</th>\n",
       "      <td>2</td>\n",
       "      <td>6</td>\n",
       "      <td>1.2</td>\n",
       "      <td>1.518333e+11</td>\n",
       "      <td>NaN</td>\n",
       "    </tr>\n",
       "    <tr>\n",
       "      <th>2</th>\n",
       "      <td>3</td>\n",
       "      <td>6</td>\n",
       "      <td>1.2</td>\n",
       "      <td>1.018693e+11</td>\n",
       "      <td>NaN</td>\n",
       "    </tr>\n",
       "    <tr>\n",
       "      <th>3</th>\n",
       "      <td>4</td>\n",
       "      <td>6</td>\n",
       "      <td>1.2</td>\n",
       "      <td>8.161232e+10</td>\n",
       "      <td>NaN</td>\n",
       "    </tr>\n",
       "    <tr>\n",
       "      <th>4</th>\n",
       "      <td>5</td>\n",
       "      <td>6</td>\n",
       "      <td>1.2</td>\n",
       "      <td>1.303969e+11</td>\n",
       "      <td>NaN</td>\n",
       "    </tr>\n",
       "  </tbody>\n",
       "</table>\n",
       "</div>"
      ],
      "text/plain": [
       "   halo_id  snapshot    z          mass  descendant_id\n",
       "0        1         6  1.2  9.692735e+10            NaN\n",
       "1        2         6  1.2  1.518333e+11            NaN\n",
       "2        3         6  1.2  1.018693e+11            NaN\n",
       "3        4         6  1.2  8.161232e+10            NaN\n",
       "4        5         6  1.2  1.303969e+11            NaN"
      ]
     },
     "execution_count": 3,
     "metadata": {},
     "output_type": "execute_result"
    }
   ],
   "source": [
    "# Load the merger tree\n",
    "df = pd.read_csv('large_merger_tree.csv')\n",
    "\n",
    "df.head()"
   ]
  },
  {
   "cell_type": "markdown",
   "metadata": {},
   "source": [
    "## Cooling Rate\n",
    "We'll use a simplified, piecewise function based on gas temperature and metallicity."
   ]
  },
  {
   "cell_type": "code",
   "execution_count": 4,
   "metadata": {},
   "outputs": [],
   "source": [
    "def cooling_rate(T, Z=0.1):\n",
    "    if T < 1e5:\n",
    "        return 1e-24\n",
    "    elif T < 1e6:\n",
    "        return 1e-23 * Z\n",
    "    else:\n",
    "        return 1e-22 * Z"
   ]
  },
  {
   "cell_type": "markdown",
   "metadata": {},
   "source": [
    "## Virial radius\n",
    "Calculate the virial radius of each halo,\n",
    "$$R_{\\text{vir}} = \\left( \\frac{3 M_{\\text{halo}}}{4 \\pi \\Delta_c \\rho_c} \\right)^{1/3}.$$\n",
    "Use $\\Delta_c=200$."
   ]
  },
  {
   "cell_type": "code",
   "execution_count": null,
   "id": "99b3ccc3",
   "metadata": {},
   "outputs": [],
   "source": [
    "# Calculate the virial radius of each halo\n"
   ]
  },
  {
   "cell_type": "markdown",
   "id": "f3bf3d11",
   "metadata": {},
   "source": [
    "## Virial temperature\n",
    "\n",
    "Calculate the virial temperature of each halo. This is the temperature for an ideal gas once virialized, and given by\n",
    "$$T_{\\text{vir}} = \\frac{0.59 m_p G M_{\\text{halo}}}{2 k_B R_{\\text{vir}}}$$"
   ]
  },
  {
   "cell_type": "code",
   "execution_count": null,
   "id": "0bdc586f",
   "metadata": {},
   "outputs": [],
   "source": [
    "# Calculate the virial temperature of each halo\n"
   ]
  },
  {
   "cell_type": "markdown",
   "id": "c2c8b4cb",
   "metadata": {},
   "source": [
    "## Amount of hot gas\n",
    "We assume that $\\Omega_b/\\Omega_m$ is the fraction of hot gas to dark matter in the halo."
   ]
  },
  {
   "cell_type": "code",
   "execution_count": null,
   "id": "3b630cd7",
   "metadata": {},
   "outputs": [],
   "source": [
    "# Calculate amount of hot gas\n"
   ]
  },
  {
   "cell_type": "markdown",
   "id": "e1b1c1e7",
   "metadata": {},
   "source": [
    "## Cooling time\n",
    "The time for hot gas to cool down is \n",
    "$$ t_{\\text{cool}} = \\frac{3 k_B T}{n \\Lambda(T, Z)} $$\n",
    "where $n$ is the number density of gas particles, which we can approximate by $\\rho/m_p$"
   ]
  },
  {
   "cell_type": "code",
   "execution_count": null,
   "id": "d1672a99",
   "metadata": {},
   "outputs": [],
   "source": [
    "# Calculate cooling time\n"
   ]
  },
  {
   "cell_type": "markdown",
   "id": "00559e8b",
   "metadata": {},
   "source": [
    "## Amount of cold gas\n",
    "The amount of cold gas is given by the amount of hot gas that had time to cool down in the 1Gyr between snapshots."
   ]
  },
  {
   "cell_type": "code",
   "execution_count": null,
   "id": "e02fbbcd",
   "metadata": {},
   "outputs": [],
   "source": [
    "# Function for cold gas\n",
    "# Cold gas reservoir per snapshot (integrated over 1 Gyr timestep max)\n"
   ]
  },
  {
   "cell_type": "markdown",
   "id": "c1adc996",
   "metadata": {},
   "source": [
    "## Star formation rate and amount of stellar mass formed in one snapshot\n",
    "We assume the Kennicutt-Schmidt law for star formation which says that\n",
    "$$\\dot{\\Sigma}\\star = A \\cdot \\left( \\frac{\\Sigma{\\text{gas}}}{1 \\, M_\\odot \\, \\text{pc}^{-2}} \\right)^n$$\n",
    "\n",
    "Where:\n",
    "\t•\t$\\dot{\\Sigma}\\star$: Star formation rate surface density (in $M\\odot \\, \\text{yr}^{-1} \\, \\text{kpc}^{-2})$\n",
    "\t•\t$\\Sigma_{\\text{gas}}$: Cold gas surface density (in $M_\\odot \\, \\text{pc}^{-2}$)\n",
    "\t•\t$A \\approx 2.5 \\times 10^{-4}$\n",
    "\t•\t$n \\approx 1.4$"
   ]
  },
  {
   "cell_type": "code",
   "execution_count": null,
   "id": "006807f8",
   "metadata": {},
   "outputs": [],
   "source": [
    "\n",
    "disk_radius_kpc = 10  # Assume all galaxies have 10 kpc disk radius\n",
    "disk_area_pc2 = np.pi * (disk_radius_kpc * 1e3)**2  # pc^2\n",
    "\n",
    "# Calculate Sigma_gas, Sigma_SFR and SFT\n",
    "\n"
   ]
  },
  {
   "cell_type": "code",
   "execution_count": null,
   "id": "71536097",
   "metadata": {},
   "outputs": [],
   "source": [
    "\n",
    "# New stars formed over 1 Gyr snapshot\n"
   ]
  },
  {
   "cell_type": "code",
   "execution_count": null,
   "id": "1876f8e5",
   "metadata": {},
   "outputs": [],
   "source": [
    "# For each halo, calculate its stellar mass by adding the newly formed stars in each of its parents\n"
   ]
  },
  {
   "cell_type": "code",
   "execution_count": null,
   "id": "62526182",
   "metadata": {},
   "outputs": [
    {
     "data": {
      "image/png": "[encoded data removed]",
      "text/plain": [
       "<Figure size 700x500 with 1 Axes>"
      ]
     },
     "metadata": {},
     "output_type": "display_data"
    }
   ],
   "source": [
    "# Plot the stellar mass - halo mass relation for each snapshot\n",
    "plt.xscale('log')\n",
    "plt.yscale('log')\n",
    "plt.xlabel('Halo Mass [Msun]')\n",
    "plt.ylabel('Stellar Mass [Msun]')\n",
    "plt.grid(True)\n",
    "plt.show()"
   ]
  },
  {
   "cell_type": "markdown",
   "id": "841241d5",
   "metadata": {},
   "source": [
    "## SN and AGN feedback\n",
    "\n",
    "Incorporate supernova and AGN feedback, by subtracting from the cold gas before star formation. We use\n",
    "- AGN: if halo mass > 1e12 Msun, reduce cooling rate by 80%\n",
    "- SN: if halo mass < 1e11 Msun, remove 50% of cold gas"
   ]
  },
  {
   "cell_type": "code",
   "execution_count": null,
   "metadata": {},
   "outputs": [],
   "source": [
    "# Apply AGN feedback to cooling rate\n",
    "\n",
    "# Recompute cold gas after feedback\n",
    "\n",
    "# Update gas surface density and SFR\n",
    "\n",
    "# Star formation with feedback\n"
   ]
  },
  {
   "cell_type": "code",
   "execution_count": null,
   "metadata": {},
   "outputs": [],
   "source": [
    "# Propagate cumulative stellar mass with feedback\n"
   ]
  },
  {
   "cell_type": "code",
   "execution_count": null,
   "metadata": {},
   "outputs": [
    {
     "data": {
      "image/png": "[encoded data removed]",
      "text/plain": [
       "<Figure size 700x500 with 1 Axes>"
      ]
     },
     "metadata": {},
     "output_type": "display_data"
    }
   ],
   "source": [
    "# Plot stellar-to-halo mass relation\n",
    "plt.figure(figsize=(7,5))\n",
    "plt.xscale('log')\n",
    "plt.yscale('log')\n",
    "plt.xlabel('Halo Mass [Msun]')\n",
    "plt.ylabel('Stellar Mass [Msun]')\n",
    "plt.grid(True)\n",
    "plt.show()"
   ]
  },
  {
   "cell_type": "code",
   "execution_count": null,
   "id": "81287d4a",
   "metadata": {},
   "outputs": [],
   "source": []
  }
 ],
 "metadata": {
  "kernelspec": {
   "display_name": "base",
   "language": "python",
   "name": "python3"
  },
  "language_info": {
   "codemirror_mode": {
    "name": "ipython",
    "version": 3
   },
   "file_extension": ".py",
   "mimetype": "text/x-python",
   "name": "python",
   "nbconvert_exporter": "python",
   "pygments_lexer": "ipython3",
   "version": "3.12.9"
  }
 },
 "nbformat": 4,
 "nbformat_minor": 5
}
